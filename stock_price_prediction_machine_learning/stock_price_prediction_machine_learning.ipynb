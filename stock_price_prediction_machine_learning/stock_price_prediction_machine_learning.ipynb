{
 "cells": [
  {
   "cell_type": "code",
   "execution_count": null,
   "id": "17b74f6f",
   "metadata": {},
   "outputs": [],
   "source": [
    "# Description: This program uses an artificial recurrent neural network called Long Short Term Memory (LSTM)\n",
    "#       to predcit the closing stock price of a corporation (Apple) using last 60 days stock price."
   ]
  },
  {
   "cell_type": "code",
   "execution_count": 32,
   "id": "43df11c8",
   "metadata": {},
   "outputs": [],
   "source": [
    "# import stuff\n",
    "import math\n",
    "# import pandas_datareader as web\n",
    "import numpy as np\n",
    "import pandas as pd\n",
    "from sklearn.preprocessing import MinMaxScaler\n",
    "from keras.models import Sequential\n",
    "from keras.layers import Dense, LSTM\n",
    "import matplotlib.pyplot as plt\n",
    "plt.style.use('fivethirtyeight')\n",
    "# from google.colab import files"
   ]
  },
  {
   "cell_type": "code",
   "execution_count": 11,
   "id": "e1fadde3",
   "metadata": {},
   "outputs": [
    {
     "data": {
      "text/html": [
       "<div>\n",
       "<style scoped>\n",
       "    .dataframe tbody tr th:only-of-type {\n",
       "        vertical-align: middle;\n",
       "    }\n",
       "\n",
       "    .dataframe tbody tr th {\n",
       "        vertical-align: top;\n",
       "    }\n",
       "\n",
       "    .dataframe thead th {\n",
       "        text-align: right;\n",
       "    }\n",
       "</style>\n",
       "<table border=\"1\" class=\"dataframe\">\n",
       "  <thead>\n",
       "    <tr style=\"text-align: right;\">\n",
       "      <th></th>\n",
       "      <th>Date</th>\n",
       "      <th>Open</th>\n",
       "      <th>High</th>\n",
       "      <th>Low</th>\n",
       "      <th>Close</th>\n",
       "      <th>Adj Close</th>\n",
       "      <th>Volume</th>\n",
       "    </tr>\n",
       "  </thead>\n",
       "  <tbody>\n",
       "    <tr>\n",
       "      <th>2012-01-03</th>\n",
       "      <td>2012-01-03</td>\n",
       "      <td>14.621429</td>\n",
       "      <td>14.732143</td>\n",
       "      <td>14.607143</td>\n",
       "      <td>14.686786</td>\n",
       "      <td>12.610316</td>\n",
       "      <td>302220800</td>\n",
       "    </tr>\n",
       "    <tr>\n",
       "      <th>2012-01-04</th>\n",
       "      <td>2012-01-04</td>\n",
       "      <td>14.642857</td>\n",
       "      <td>14.810000</td>\n",
       "      <td>14.617143</td>\n",
       "      <td>14.765714</td>\n",
       "      <td>12.678085</td>\n",
       "      <td>260022000</td>\n",
       "    </tr>\n",
       "    <tr>\n",
       "      <th>2012-01-05</th>\n",
       "      <td>2012-01-05</td>\n",
       "      <td>14.819643</td>\n",
       "      <td>14.948214</td>\n",
       "      <td>14.738214</td>\n",
       "      <td>14.929643</td>\n",
       "      <td>12.818839</td>\n",
       "      <td>271269600</td>\n",
       "    </tr>\n",
       "    <tr>\n",
       "      <th>2012-01-06</th>\n",
       "      <td>2012-01-06</td>\n",
       "      <td>14.991786</td>\n",
       "      <td>15.098214</td>\n",
       "      <td>14.972143</td>\n",
       "      <td>15.085714</td>\n",
       "      <td>12.952843</td>\n",
       "      <td>318292800</td>\n",
       "    </tr>\n",
       "    <tr>\n",
       "      <th>2012-01-09</th>\n",
       "      <td>2012-01-09</td>\n",
       "      <td>15.196429</td>\n",
       "      <td>15.276786</td>\n",
       "      <td>15.048214</td>\n",
       "      <td>15.061786</td>\n",
       "      <td>12.932296</td>\n",
       "      <td>394024400</td>\n",
       "    </tr>\n",
       "    <tr>\n",
       "      <th>...</th>\n",
       "      <td>...</td>\n",
       "      <td>...</td>\n",
       "      <td>...</td>\n",
       "      <td>...</td>\n",
       "      <td>...</td>\n",
       "      <td>...</td>\n",
       "      <td>...</td>\n",
       "    </tr>\n",
       "    <tr>\n",
       "      <th>2019-12-10</th>\n",
       "      <td>2019-12-10</td>\n",
       "      <td>67.150002</td>\n",
       "      <td>67.517502</td>\n",
       "      <td>66.464996</td>\n",
       "      <td>67.120003</td>\n",
       "      <td>66.234116</td>\n",
       "      <td>90420400</td>\n",
       "    </tr>\n",
       "    <tr>\n",
       "      <th>2019-12-11</th>\n",
       "      <td>2019-12-11</td>\n",
       "      <td>67.202499</td>\n",
       "      <td>67.775002</td>\n",
       "      <td>67.125000</td>\n",
       "      <td>67.692497</td>\n",
       "      <td>66.799049</td>\n",
       "      <td>78756800</td>\n",
       "    </tr>\n",
       "    <tr>\n",
       "      <th>2019-12-12</th>\n",
       "      <td>2019-12-12</td>\n",
       "      <td>66.945000</td>\n",
       "      <td>68.139999</td>\n",
       "      <td>66.830002</td>\n",
       "      <td>67.864998</td>\n",
       "      <td>66.969292</td>\n",
       "      <td>137310400</td>\n",
       "    </tr>\n",
       "    <tr>\n",
       "      <th>2019-12-13</th>\n",
       "      <td>2019-12-13</td>\n",
       "      <td>67.864998</td>\n",
       "      <td>68.824997</td>\n",
       "      <td>67.732498</td>\n",
       "      <td>68.787498</td>\n",
       "      <td>67.879601</td>\n",
       "      <td>133587600</td>\n",
       "    </tr>\n",
       "    <tr>\n",
       "      <th>2019-12-16</th>\n",
       "      <td>2019-12-16</td>\n",
       "      <td>69.250000</td>\n",
       "      <td>70.197502</td>\n",
       "      <td>69.245003</td>\n",
       "      <td>69.964996</td>\n",
       "      <td>69.041550</td>\n",
       "      <td>128186000</td>\n",
       "    </tr>\n",
       "  </tbody>\n",
       "</table>\n",
       "<p>2002 rows × 7 columns</p>\n",
       "</div>"
      ],
      "text/plain": [
       "                  Date       Open       High        Low      Close  Adj Close  \\\n",
       "2012-01-03  2012-01-03  14.621429  14.732143  14.607143  14.686786  12.610316   \n",
       "2012-01-04  2012-01-04  14.642857  14.810000  14.617143  14.765714  12.678085   \n",
       "2012-01-05  2012-01-05  14.819643  14.948214  14.738214  14.929643  12.818839   \n",
       "2012-01-06  2012-01-06  14.991786  15.098214  14.972143  15.085714  12.952843   \n",
       "2012-01-09  2012-01-09  15.196429  15.276786  15.048214  15.061786  12.932296   \n",
       "...                ...        ...        ...        ...        ...        ...   \n",
       "2019-12-10  2019-12-10  67.150002  67.517502  66.464996  67.120003  66.234116   \n",
       "2019-12-11  2019-12-11  67.202499  67.775002  67.125000  67.692497  66.799049   \n",
       "2019-12-12  2019-12-12  66.945000  68.139999  66.830002  67.864998  66.969292   \n",
       "2019-12-13  2019-12-13  67.864998  68.824997  67.732498  68.787498  67.879601   \n",
       "2019-12-16  2019-12-16  69.250000  70.197502  69.245003  69.964996  69.041550   \n",
       "\n",
       "               Volume  \n",
       "2012-01-03  302220800  \n",
       "2012-01-04  260022000  \n",
       "2012-01-05  271269600  \n",
       "2012-01-06  318292800  \n",
       "2012-01-09  394024400  \n",
       "...               ...  \n",
       "2019-12-10   90420400  \n",
       "2019-12-11   78756800  \n",
       "2019-12-12  137310400  \n",
       "2019-12-13  133587600  \n",
       "2019-12-16  128186000  \n",
       "\n",
       "[2002 rows x 7 columns]"
      ]
     },
     "execution_count": 11,
     "metadata": {},
     "output_type": "execute_result"
    }
   ],
   "source": [
    "#Get the stock quote\n",
    "df = pd.read_csv('AAPL.csv', index_col=False)\n",
    "df = df.set_index(pd.DatetimeIndex(df['Date'].values))\n",
    "\n",
    "# show data\n",
    "df"
   ]
  },
  {
   "cell_type": "code",
   "execution_count": 12,
   "id": "901b5c35",
   "metadata": {},
   "outputs": [
    {
     "data": {
      "text/plain": [
       "(2002, 7)"
      ]
     },
     "execution_count": 12,
     "metadata": {},
     "output_type": "execute_result"
    }
   ],
   "source": [
    "df.shape"
   ]
  },
  {
   "cell_type": "code",
   "execution_count": 13,
   "id": "b299e6d1",
   "metadata": {},
   "outputs": [
    {
     "data": {
      "image/png": "[encoded data removed]",
      "text/plain": [
       "<Figure size 1152x576 with 1 Axes>"
      ]
     },
     "metadata": {},
     "output_type": "display_data"
    }
   ],
   "source": [
    "#Visualize closing price history\n",
    "plt.figure(figsize=(16,8))\n",
    "plt.title('Close Price History')\n",
    "plt.plot(df['Close'])\n",
    "plt.xlabel('Date', fontsize=18)\n",
    "plt.ylabel('Close Price USD ($)', fontsize=18)\n",
    "plt.show()"
   ]
  },
  {
   "cell_type": "code",
   "execution_count": 14,
   "id": "166309dc",
   "metadata": {},
   "outputs": [
    {
     "data": {
      "text/plain": [
       "1602"
      ]
     },
     "execution_count": 14,
     "metadata": {},
     "output_type": "execute_result"
    }
   ],
   "source": [
    "#Create a new dataframe with only the 'Close' column\n",
    "data = df.filter(['Close'])\n",
    "#Conver the dataframe to a numpy array\n",
    "dataset = data.values\n",
    "#Get the number of rows to train the model on\n",
    "training_data_len = math.ceil(len(dataset) * .8)\n",
    "\n",
    "training_data_len"
   ]
  },
  {
   "cell_type": "code",
   "execution_count": 15,
   "id": "469470fb",
   "metadata": {},
   "outputs": [
    {
     "data": {
      "text/plain": [
       "array([[0.01319741],\n",
       "       [0.0146064 ],\n",
       "       [0.01753279],\n",
       "       ...,\n",
       "       [0.96251175],\n",
       "       [0.97897982],\n",
       "       [1.        ]])"
      ]
     },
     "execution_count": 15,
     "metadata": {},
     "output_type": "execute_result"
    }
   ],
   "source": [
    "#Scale the data\n",
    "scaler = MinMaxScaler(feature_range=(0,1))\n",
    "scaled_data = scaler.fit_transform(dataset)\n",
    "\n",
    "scaled_data"
   ]
  },
  {
   "cell_type": "code",
   "execution_count": 16,
   "id": "d4dc4199",
   "metadata": {},
   "outputs": [
    {
     "name": "stdout",
     "output_type": "stream",
     "text": [
      "[array([0.01319741, 0.0146064 , 0.01753279, 0.0203189 , 0.01989175,\n",
      "       0.02085445, 0.02041453, 0.01967498, 0.01866763, 0.02178528,\n",
      "       0.0245969 , 0.02372984, 0.01898003, 0.02351306, 0.01905017,\n",
      "       0.03578602, 0.03449178, 0.0361813 , 0.03983448, 0.04204679,\n",
      "       0.04186192, 0.04117974, 0.04408699, 0.04682209, 0.04992064,\n",
      "       0.05492545, 0.06543873, 0.06559813, 0.07145091, 0.07582452,\n",
      "       0.06830777, 0.07120224, 0.07114488, 0.07926097, 0.07810697,\n",
      "       0.08024277, 0.08408086, 0.08621669, 0.09236911, 0.0968511 ,\n",
      "       0.09814534, 0.09859803, 0.09093463, 0.08908568, 0.08935985,\n",
      "       0.09656424, 0.09859166, 0.10294618, 0.11321081, 0.12690551,\n",
      "       0.12434253, 0.1243489 , 0.13425015, 0.1373487 , 0.13514272,\n",
      "       0.13312807, 0.13103049, 0.13799896, 0.14278066, 0.14478259])]\n",
      "[0.13983513293775218]\n",
      "\n",
      "[array([0.01319741, 0.0146064 , 0.01753279, 0.0203189 , 0.01989175,\n",
      "       0.02085445, 0.02041453, 0.01967498, 0.01866763, 0.02178528,\n",
      "       0.0245969 , 0.02372984, 0.01898003, 0.02351306, 0.01905017,\n",
      "       0.03578602, 0.03449178, 0.0361813 , 0.03983448, 0.04204679,\n",
      "       0.04186192, 0.04117974, 0.04408699, 0.04682209, 0.04992064,\n",
      "       0.05492545, 0.06543873, 0.06559813, 0.07145091, 0.07582452,\n",
      "       0.06830777, 0.07120224, 0.07114488, 0.07926097, 0.07810697,\n",
      "       0.08024277, 0.08408086, 0.08621669, 0.09236911, 0.0968511 ,\n",
      "       0.09814534, 0.09859803, 0.09093463, 0.08908568, 0.08935985,\n",
      "       0.09656424, 0.09859166, 0.10294618, 0.11321081, 0.12690551,\n",
      "       0.12434253, 0.1243489 , 0.13425015, 0.1373487 , 0.13514272,\n",
      "       0.13312807, 0.13103049, 0.13799896, 0.14278066, 0.14478259]), array([0.0146064 , 0.01753279, 0.0203189 , 0.01989175, 0.02085445,\n",
      "       0.02041453, 0.01967498, 0.01866763, 0.02178528, 0.0245969 ,\n",
      "       0.02372984, 0.01898003, 0.02351306, 0.01905017, 0.03578602,\n",
      "       0.03449178, 0.0361813 , 0.03983448, 0.04204679, 0.04186192,\n",
      "       0.04117974, 0.04408699, 0.04682209, 0.04992064, 0.05492545,\n",
      "       0.06543873, 0.06559813, 0.07145091, 0.07582452, 0.06830777,\n",
      "       0.07120224, 0.07114488, 0.07926097, 0.07810697, 0.08024277,\n",
      "       0.08408086, 0.08621669, 0.09236911, 0.0968511 , 0.09814534,\n",
      "       0.09859803, 0.09093463, 0.08908568, 0.08935985, 0.09656424,\n",
      "       0.09859166, 0.10294618, 0.11321081, 0.12690551, 0.12434253,\n",
      "       0.1243489 , 0.13425015, 0.1373487 , 0.13514272, 0.13312807,\n",
      "       0.13103049, 0.13799896, 0.14278066, 0.14478259, 0.13983513])]\n",
      "[0.13983513293775218, 0.13326193659209618]\n",
      "\n"
     ]
    }
   ],
   "source": [
    "#Create the training data set\n",
    "#Create the scaled training data set\n",
    "train_data = scaled_data[0:training_data_len, :]\n",
    "#Split the data into x_train and y_train data sets\n",
    "x_train = []\n",
    "y_train = []\n",
    "\n",
    "for i in range(60, len(train_data)):\n",
    "  x_train.append(train_data[i-60:i, 0])\n",
    "  y_train.append(train_data[i, 0])\n",
    "  if i<= 61:\n",
    "    print(x_train)\n",
    "    print(y_train)\n",
    "    print()"
   ]
  },
  {
   "cell_type": "code",
   "execution_count": 17,
   "id": "aaa00ded",
   "metadata": {},
   "outputs": [],
   "source": [
    "#Convert the x_train and y_train to numpy arrays\n",
    "x_train, y_train = np.array(x_train), np.array(y_train)"
   ]
  },
  {
   "cell_type": "code",
   "execution_count": 18,
   "id": "0ecbc74f",
   "metadata": {},
   "outputs": [
    {
     "data": {
      "text/plain": [
       "(1542, 60, 1)"
      ]
     },
     "execution_count": 18,
     "metadata": {},
     "output_type": "execute_result"
    }
   ],
   "source": [
    "#Reshape the data\n",
    "x_train = np.reshape(x_train, (x_train.shape[0], x_train.shape[1], 1))\n",
    "x_train.shape"
   ]
  },
  {
   "cell_type": "code",
   "execution_count": 19,
   "id": "9f3a263e",
   "metadata": {},
   "outputs": [
    {
     "name": "stderr",
     "output_type": "stream",
     "text": [
      "2021-10-19 18:10:43.019633: I tensorflow/core/platform/cpu_feature_guard.cc:142] This TensorFlow binary is optimized with oneAPI Deep Neural Network Library (oneDNN) to use the following CPU instructions in performance-critical operations:  AVX2 FMA\n",
      "To enable them in other operations, rebuild TensorFlow with the appropriate compiler flags.\n"
     ]
    }
   ],
   "source": [
    "#Build the LSTM model\n",
    "model = Sequential()\n",
    "model.add(LSTM(50, return_sequences=True, input_shape = (x_train.shape[1], 1)))\n",
    "model.add(LSTM(50, return_sequences=False))\n",
    "model.add(Dense(25))\n",
    "model.add(Dense(1))"
   ]
  },
  {
   "cell_type": "code",
   "execution_count": 20,
   "id": "2ba419b5",
   "metadata": {},
   "outputs": [],
   "source": [
    "#Compile the model\n",
    "model.compile(optimizer='adam', loss='mean_squared_error')"
   ]
  },
  {
   "cell_type": "code",
   "execution_count": 21,
   "id": "da323271",
   "metadata": {},
   "outputs": [
    {
     "name": "stderr",
     "output_type": "stream",
     "text": [
      "2021-10-19 18:11:00.165234: I tensorflow/compiler/mlir/mlir_graph_optimization_pass.cc:185] None of the MLIR Optimization Passes are enabled (registered 2)\n"
     ]
    },
    {
     "name": "stdout",
     "output_type": "stream",
     "text": [
      "1542/1542 [==============================] - 60s 37ms/step - loss: 6.8026e-04\n"
     ]
    },
    {
     "data": {
      "text/plain": [
       "<keras.callbacks.History at 0x7fdc8cc5c460>"
      ]
     },
     "execution_count": 21,
     "metadata": {},
     "output_type": "execute_result"
    }
   ],
   "source": [
    "model.fit(x_train, y_train, batch_size=1, epochs=1)"
   ]
  },
  {
   "cell_type": "code",
   "execution_count": 22,
   "id": "7ced910c",
   "metadata": {},
   "outputs": [],
   "source": [
    "# Create testing data set\n",
    "#Crate a new array containing scaled values from index 1543 to 2003\n",
    "test_data = scaled_data[training_data_len - 60: , :]\n",
    "#Create data sets x_test and y_test\n",
    "x_test = []\n",
    "y_test = dataset[training_data_len:, :]\n",
    "for i in range(60, len(test_data)):\n",
    "  x_test.append(test_data[i-60:i,0])"
   ]
  },
  {
   "cell_type": "code",
   "execution_count": 23,
   "id": "61fc43ad",
   "metadata": {},
   "outputs": [],
   "source": [
    "#Convert the data to a numpy array\n",
    "x_test = np.array(x_test)\n"
   ]
  },
  {
   "cell_type": "code",
   "execution_count": 24,
   "id": "8aace298",
   "metadata": {},
   "outputs": [],
   "source": [
    "#Reshape the data\n",
    "x_test = np.reshape(x_test, (x_test.shape[0], x_test.shape[1], 1))"
   ]
  },
  {
   "cell_type": "code",
   "execution_count": 25,
   "id": "8375e895",
   "metadata": {},
   "outputs": [],
   "source": [
    "#Get the model's predicted price values\n",
    "predictions = model.predict(x_test)\n",
    "predictions = scaler.inverse_transform(predictions)"
   ]
  },
  {
   "cell_type": "code",
   "execution_count": 26,
   "id": "93db3f94",
   "metadata": {},
   "outputs": [
    {
     "data": {
      "text/plain": [
       "0.5397462925640871"
      ]
     },
     "execution_count": 26,
     "metadata": {},
     "output_type": "execute_result"
    }
   ],
   "source": [
    "#Get the root mean squared error (RMSE)\n",
    "rmse = np.sqrt(np.mean(predictions - y_test)**2)\n",
    "rmse"
   ]
  },
  {
   "cell_type": "code",
   "execution_count": 27,
   "id": "804f72ab",
   "metadata": {},
   "outputs": [
    {
     "name": "stderr",
     "output_type": "stream",
     "text": [
      "/var/folders/f9/p89fk9sn7f5_lpw1k9lknj7m0000gp/T/ipykernel_70332/586142526.py:4: SettingWithCopyWarning: \n",
      "A value is trying to be set on a copy of a slice from a DataFrame.\n",
      "Try using .loc[row_indexer,col_indexer] = value instead\n",
      "\n",
      "See the caveats in the documentation: http://pandas.pydata.org/pandas-docs/stable/user_guide/indexing.html#returning-a-view-versus-a-copy\n",
      "  valid['Predictions'] = predictions\n"
     ]
    },
    {
     "data": {
      "image/png": "[encoded data removed]",
      "text/plain": [
       "<Figure size 1152x576 with 1 Axes>"
      ]
     },
     "metadata": {},
     "output_type": "display_data"
    }
   ],
   "source": [
    "#Plot the data\n",
    "train = data[:training_data_len]\n",
    "valid = data[training_data_len:]\n",
    "valid['Predictions'] = predictions\n",
    "#Visualize the data\n",
    "plt.figure(figsize=(16,8))\n",
    "plt.title('Model')\n",
    "plt.xlabel('Date', fontsize=18)\n",
    "plt.ylabel('Close Price USD ($)', fontsize=18)\n",
    "plt.plot(train['Close'])\n",
    "plt.plot(valid[['Close', 'Predictions']])\n",
    "plt.legend(['Train', 'Val', 'Predictions'], loc='lower right')\n",
    "plt.show()"
   ]
  },
  {
   "cell_type": "code",
   "execution_count": 28,
   "id": "a5b0de23",
   "metadata": {},
   "outputs": [
    {
     "data": {
      "text/html": [
       "<div>\n",
       "<style scoped>\n",
       "    .dataframe tbody tr th:only-of-type {\n",
       "        vertical-align: middle;\n",
       "    }\n",
       "\n",
       "    .dataframe tbody tr th {\n",
       "        vertical-align: top;\n",
       "    }\n",
       "\n",
       "    .dataframe thead th {\n",
       "        text-align: right;\n",
       "    }\n",
       "</style>\n",
       "<table border=\"1\" class=\"dataframe\">\n",
       "  <thead>\n",
       "    <tr style=\"text-align: right;\">\n",
       "      <th></th>\n",
       "      <th>Close</th>\n",
       "      <th>Predictions</th>\n",
       "    </tr>\n",
       "  </thead>\n",
       "  <tbody>\n",
       "    <tr>\n",
       "      <th>2018-05-16</th>\n",
       "      <td>47.044998</td>\n",
       "      <td>46.642475</td>\n",
       "    </tr>\n",
       "    <tr>\n",
       "      <th>2018-05-17</th>\n",
       "      <td>46.747501</td>\n",
       "      <td>46.754131</td>\n",
       "    </tr>\n",
       "    <tr>\n",
       "      <th>2018-05-18</th>\n",
       "      <td>46.577499</td>\n",
       "      <td>46.786560</td>\n",
       "    </tr>\n",
       "    <tr>\n",
       "      <th>2018-05-21</th>\n",
       "      <td>46.907501</td>\n",
       "      <td>46.755714</td>\n",
       "    </tr>\n",
       "    <tr>\n",
       "      <th>2018-05-22</th>\n",
       "      <td>46.790001</td>\n",
       "      <td>46.736759</td>\n",
       "    </tr>\n",
       "    <tr>\n",
       "      <th>...</th>\n",
       "      <td>...</td>\n",
       "      <td>...</td>\n",
       "    </tr>\n",
       "    <tr>\n",
       "      <th>2019-12-10</th>\n",
       "      <td>67.120003</td>\n",
       "      <td>64.811577</td>\n",
       "    </tr>\n",
       "    <tr>\n",
       "      <th>2019-12-11</th>\n",
       "      <td>67.692497</td>\n",
       "      <td>64.985420</td>\n",
       "    </tr>\n",
       "    <tr>\n",
       "      <th>2019-12-12</th>\n",
       "      <td>67.864998</td>\n",
       "      <td>65.212181</td>\n",
       "    </tr>\n",
       "    <tr>\n",
       "      <th>2019-12-13</th>\n",
       "      <td>68.787498</td>\n",
       "      <td>65.451736</td>\n",
       "    </tr>\n",
       "    <tr>\n",
       "      <th>2019-12-16</th>\n",
       "      <td>69.964996</td>\n",
       "      <td>65.779449</td>\n",
       "    </tr>\n",
       "  </tbody>\n",
       "</table>\n",
       "<p>400 rows × 2 columns</p>\n",
       "</div>"
      ],
      "text/plain": [
       "                Close  Predictions\n",
       "2018-05-16  47.044998    46.642475\n",
       "2018-05-17  46.747501    46.754131\n",
       "2018-05-18  46.577499    46.786560\n",
       "2018-05-21  46.907501    46.755714\n",
       "2018-05-22  46.790001    46.736759\n",
       "...               ...          ...\n",
       "2019-12-10  67.120003    64.811577\n",
       "2019-12-11  67.692497    64.985420\n",
       "2019-12-12  67.864998    65.212181\n",
       "2019-12-13  68.787498    65.451736\n",
       "2019-12-16  69.964996    65.779449\n",
       "\n",
       "[400 rows x 2 columns]"
      ]
     },
     "execution_count": 28,
     "metadata": {},
     "output_type": "execute_result"
    }
   ],
   "source": [
    "#Show the valid and predicted prices\n",
    "valid"
   ]
  },
  {
   "cell_type": "code",
   "execution_count": 29,
   "id": "d6175a72",
   "metadata": {},
   "outputs": [
    {
     "name": "stdout",
     "output_type": "stream",
     "text": [
      "[[66.24476]]\n"
     ]
    }
   ],
   "source": [
    "#Get the quote\n",
    "# apple_quote = web.DataReader('AAPL', data_source='yahoo', start='2012-01-01', end='2019-12-17')\n",
    "#Create a new dataframe\n",
    "new_df = df.filter(['Close'])\n",
    "#Get the last 60 day closing price values and convert the dataframe to an array\n",
    "last_60_days = new_df[-60:].values\n",
    "#Scale the data to be values between 0 and ...\n",
    "last_60_days_scaled = scaler.transform(last_60_days)\n",
    "#Create empty list\n",
    "X_test = []\n",
    "#Append the past 60 days\n",
    "X_test.append(last_60_days_scaled)\n",
    "#Convert the X_test data set to a numpy array\n",
    "X_test = np.array(X_test)\n",
    "#Reshape the data\n",
    "X_test = np.reshape(X_test, (X_test.shape[0], X_test.shape[1], 1))\n",
    "#Get the predicted scaled price\n",
    "pred_price = model.predict(X_test)\n",
    "#undo the scaling\n",
    "pred_price = scaler.inverse_transform(pred_price)\n",
    "print(pred_price)"
   ]
  },
  {
   "cell_type": "code",
   "execution_count": null,
   "id": "b9f890f9",
   "metadata": {},
   "outputs": [],
   "source": []
  }
 ],
 "metadata": {
  "kernelspec": {
   "display_name": "Python 3 (ipykernel)",
   "language": "python",
   "name": "python3"
  },
  "language_info": {
   "codemirror_mode": {
    "name": "ipython",
    "version": 3
   },
   "file_extension": ".py",
   "mimetype": "text/x-python",
   "name": "python",
   "nbconvert_exporter": "python",
   "pygments_lexer": "ipython3",
   "version": "3.9.5"
  }
 },
 "nbformat": 4,
 "nbformat_minor": 5
}
